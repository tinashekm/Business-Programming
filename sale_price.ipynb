{
  "nbformat": 4,
  "nbformat_minor": 0,
  "metadata": {
    "colab": {
      "name": "sale_price.ipynb",
      "provenance": [],
      "include_colab_link": true
    },
    "kernelspec": {
      "name": "python3",
      "display_name": "Python 3"
    },
    "language_info": {
      "name": "python"
    }
  },
  "cells": [
    {
      "cell_type": "markdown",
      "metadata": {
        "id": "view-in-github",
        "colab_type": "text"
      },
      "source": [
        "<a href=\"https://colab.research.google.com/github/tinashekm/Business-Programming/blob/main/sale_price.ipynb\" target=\"_parent\"><img src=\"https://colab.research.google.com/assets/colab-badge.svg\" alt=\"Open In Colab\"/></a>"
      ]
    },
    {
      "cell_type": "markdown",
      "metadata": {
        "id": "cgTeiXOtSPjH"
      },
      "source": [
        "# Sales Price\n",
        "\n",
        "A local department store needs to develop a program that will computer the total price (including goods and services tax) of the item on sale when given an item's original price and discount percentage.\n",
        "\n",
        "## Tasks\n",
        "* Save to Github\n",
        "* Design Algorithm\n",
        "* Write and test the program in Python"
      ]
    },
    {
      "cell_type": "code",
      "metadata": {
        "id": "pPIN2ZcrSqdw",
        "outputId": "03bd8939-af67-4bd5-f38e-4f337fa8237c",
        "colab": {
          "base_uri": "https://localhost:8080/"
        }
      },
      "source": [
        "\n",
        "def calculate_totalprice(originalprice, discount, tax):\n",
        "  discountedprice = originalprice - (originalprice * discount)\n",
        "  taxAmount = tax * discountedprice\n",
        "  totalPrice = discountedprice + taxAmount\n",
        "\n",
        "  print ('The Original Price for the product is:', originalprice)\n",
        "\n",
        "  print ('The Discounted Price for the product is:', discountedprice)\n",
        "\n",
        "  print ('The Tax charged for the product is:', taxAmount)\n",
        "\n",
        "  print ('The Total Price of the product is:', totalPrice)\n",
        "\n",
        "calculate_totalprice(60, 0.8, 0.09)"
      ],
      "execution_count": 8,
      "outputs": [
        {
          "output_type": "stream",
          "name": "stdout",
          "text": [
            "The Original Price for the product is: 60\n",
            "The Discounted Price for the product is: 12.0\n",
            "The Tax charged for the product is: 1.08\n",
            "The Total Price of the product is: 13.08\n"
          ]
        }
      ]
    }
  ]
}