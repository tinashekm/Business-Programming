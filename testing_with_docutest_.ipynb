{
  "nbformat": 4,
  "nbformat_minor": 0,
  "metadata": {
    "colab": {
      "name": "testing_with_docutest_.ipynb",
      "provenance": [],
      "include_colab_link": true
    },
    "kernelspec": {
      "name": "python3",
      "display_name": "Python 3"
    },
    "language_info": {
      "name": "python"
    }
  },
  "cells": [
    {
      "cell_type": "markdown",
      "metadata": {
        "id": "view-in-github",
        "colab_type": "text"
      },
      "source": [
        "<a href=\"https://colab.research.google.com/github/tinashekm/Business-Programming/blob/main/testing_with_docutest_.ipynb\" target=\"_parent\"><img src=\"https://colab.research.google.com/assets/colab-badge.svg\" alt=\"Open In Colab\"/></a>"
      ]
    },
    {
      "cell_type": "markdown",
      "source": [
        "# Testing with docutest\n",
        "\n",
        "In this notebook we introduct another testing strategy using the package [doctest](https://docs.python.org/3/library/doctest.html) A Python doctest is written as though it is a comment with an example of the function and the expected output.  "
      ],
      "metadata": {
        "id": "xr1cG_-IhGrb"
      }
    },
    {
      "cell_type": "code",
      "execution_count": 2,
      "metadata": {
        "id": "rguWIpskg6pf"
      },
      "outputs": [],
      "source": [
        "def add(x, y):\n",
        "    '''Add two numbers'''\n",
        "    return x + y\n",
        "\n",
        "def divide(x, y):\n",
        "    '''Divide first by second number'''\n",
        "    return x / y\n",
        "\n",
        "def multiply(x, y):\n",
        "    '''Multiple two numbers'''\n",
        "    return x * y\n",
        "\n",
        "def subtract(x, y):\n",
        "    '''Subtract two numbers'''\n",
        "    return x - y"
      ]
    },
    {
      "cell_type": "markdown",
      "source": [
        "# Test Table\n",
        "\n",
        "We will use out test table from previous notebook.\n",
        "\n",
        "| Test # | Type    | Data     | Expected | Actual | Pass/Fail |\n",
        "|--------|---------|----------|----------|--------|-----------|\n",
        "|  1     | Valid   |0,0       | 0        |        |           |\n",
        "|  2     | Valid   |1,1       | 2        |        |           |\n",
        "|  3     | Valid   |-1,-1     | -2       |        |           |\n",
        "|  4     | Valid   |1.1,1.1   | 2.2      |        |           |\n",
        "|  5     | Valid   |-1.1,-1.1 | 2.2      |        |           |\n",
        "|  6     | Invalid |'0',0     | 'Not a number'|   |           |\n",
        "|  7     | Invalid |'One','0' | 'Not a number'|   |           |\n",
        "|  8     | Invalid |[1],[1]   | 'Not a number'|   |           |\n",
        "|  9     | Invalid |{1},{1}   | 'Not a number'|   |           |\n",
        "\n",
        "\n",
        "\n",
        "# doctest\n",
        "\n",
        "Documentation and testing are core components of every software development process. Docutest is a Python package that allows you to specify test in a functions docstring.  Let us consider the add() function.\n",
        "\n",
        "To add a test we simulate a interactive python session by calling the function after the interactive prompt ```>>>```.  The next line will contain the expected output.  The module doctest will search pieces of text within comments that look like interactive Python sessions and then build up the test case and execute the tests.\n"
      ],
      "metadata": {
        "id": "Ouf_I-wOkLW_"
      }
    },
    {
      "cell_type": "code",
      "source": [
        "import isNumeric(a):\n",
        "   return (type(a) == int or type(a) == float)\n",
        "    def add(x, y):\n",
        "    ' ' 'Add two numbers\n",
        "    '''\n",
        "    >>> add (0,  0)\n",
        "    0\n",
        "    >>> add(1, 1)\n",
        "    2\n",
        "    ...\n",
        "    if(isNumeric (x)) and isNumeric(y)):\n",
        "      return x + y\n",
        "    return 'Not a number'"
      ],
      "metadata": {
        "id": "iOFin6zwj94Y",
        "outputId": "8eec2c64-2fa8-499c-9ab6-984519e02c60",
        "colab": {
          "base_uri": "https://localhost:8080/",
          "height": 135
        }
      },
      "execution_count": 11,
      "outputs": [
        {
          "output_type": "error",
          "ename": "SyntaxError",
          "evalue": "ignored",
          "traceback": [
            "\u001b[0;36m  File \u001b[0;32m\"<ipython-input-11-b992ba465c3a>\"\u001b[0;36m, line \u001b[0;32m1\u001b[0m\n\u001b[0;31m    import isNumeric(a):\u001b[0m\n\u001b[0m                    ^\u001b[0m\n\u001b[0;31mSyntaxError\u001b[0m\u001b[0;31m:\u001b[0m invalid syntax\n"
          ]
        }
      ]
    },
    {
      "cell_type": "code",
      "source": [
        "doctest.testmod()"
      ],
      "metadata": {
        "id": "ip-5bULUGjuz"
      },
      "execution_count": null,
      "outputs": []
    },
    {
      "cell_type": "markdown",
      "source": [
        "As in the previous notebook, lets update our add() function and write a support function to check is a argumnet is a number."
      ],
      "metadata": {
        "id": "LQyUbfeDHetW"
      }
    },
    {
      "cell_type": "code",
      "source": [
        ""
      ],
      "metadata": {
        "id": "4ZeCUHbrHNrx"
      },
      "execution_count": null,
      "outputs": []
    },
    {
      "cell_type": "markdown",
      "source": [
        "Run the test again"
      ],
      "metadata": {
        "id": "Vb-y189zIhE0"
      }
    },
    {
      "cell_type": "code",
      "source": [
        ""
      ],
      "metadata": {
        "id": "BlF3eDChIjcu"
      },
      "execution_count": null,
      "outputs": []
    }
  ]
}