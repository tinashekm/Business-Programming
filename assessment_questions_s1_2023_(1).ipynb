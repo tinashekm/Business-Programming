{
  "nbformat": 4,
  "nbformat_minor": 0,
  "metadata": {
    "colab": {
      "private_outputs": true,
      "provenance": [],
      "include_colab_link": true
    },
    "kernelspec": {
      "name": "python3",
      "display_name": "Python 3"
    },
    "language_info": {
      "name": "python"
    }
  },
  "cells": [
    {
      "cell_type": "markdown",
      "metadata": {
        "id": "view-in-github",
        "colab_type": "text"
      },
      "source": [
        "<a href=\"https://colab.research.google.com/github/tinashekm/Business-Programming/blob/main/assessment_questions_s1_2023_(1).ipynb\" target=\"_parent\"><img src=\"https://colab.research.google.com/assets/colab-badge.svg\" alt=\"Open In Colab\"/></a>"
      ]
    },
    {
      "cell_type": "markdown",
      "source": [
        "<center>\n",
        "\n",
        "# Extended Learning Portfolio\n",
        "\n",
        "**ISYS2001 Introduction to Business Programming**\n",
        "\n",
        "<small>School of Management\n",
        "\n",
        "Semester 1 2023\n",
        "</small>\n",
        "</center>\n",
        "\n",
        "This examination is an open-book format. You are permitted to utilise a variety of resources, including textbooks, web content, and AI tools, to complete the exam. However, it's important to note that all work submitted must be your own. Any work or ideas not your own must be properly referenced. \n",
        "\n",
        "Please refrain from discussing your responses to these questions with fellow students. If you have any inquiries about the questions about this assessment, please contact the instructor directly.  Any questions submitted to the instructor concerning this assesment will have the question and responses will be posted to this discussion forum.  \n",
        "\n",
        "The examination duration is a total of 24 hours. This time frame begins at the predetermined exam start time and does not depend on when you commence the download. If you have accommodations under a CAP arrangement, the duration of the exam will be adjusted accordingly. If you feel that your CAP accommodations have not been satisfactorily implemented, please reach out to me immediately.\n",
        "\n",
        "This examination consists of four questions in total, and you are required to provide answers to all of them. Each question should be contained within its own notebook, with the exception of Question Four, which can be compiled in a Microsoft Word document. To submit your answers, please establish a private GitHub repository and upload all of your responses to the designated questions, inclusive of the Word document for Question Four, to this repository.\n",
        "\n",
        "Upon completion of all the questions, proceed to download the zip file of your GitHub repository. This file should be submitted via the link provided on Blackboard. Additionally, a separate submission of the Word document for Question Four must be made through the Turnitin link available on Blackboard."
      ],
      "metadata": {
        "id": "1M9yB5U0yefZ"
      }
    },
    {
      "cell_type": "markdown",
      "source": [
        "# Question 1\n",
        "\n",
        "Write a Python program within this or another notebook that performs advanced file analysis. The program should prompt the user to enter the path to a text file and allow them to choose from various analysis options:\n",
        "\n",
        "* Counting the number of lines.\n",
        "* Counting the total number of words.\n",
        "* Counting the total number of characters, both including and excluding whitespace.\n",
        "* Identifying the frequency of each word in the text.\n",
        "* Identifying the top 5 most common words in the text.\n",
        "\n",
        "After receiving the user input, your program should read the file and perform the chosen analysis, outputting the results in a clear, human-readable format.\n",
        "\n",
        "*Question subparts:*\n",
        "\n",
        "1. Implement the notebook program as described above. Your program should be robust and handle possible edge cases, such as file not found or incorrect input from the user.\n",
        "2. Write a brief description of your program, explaining how to use it and what each analysis option does. This description should be written as if for other developers or users who might use your tool.\n",
        "3. Write a few test cases to validate your tool. Consider edge cases such as empty files, very large files, files with unusual characters, and so on.\n",
        "4. Discuss how you would modify your tool to analyze binary files, or large files that do not fit into memory. What kind of analysis could be useful in these cases?\n",
        "5. Provide a few example text files and show the output of your program when run with these files.\n",
        "\n",
        "Remember to include necessary error handling in your program to make it robust and reliable.\n",
        "\n",
        "**[40 Marks]**"
      ],
      "metadata": {
        "id": "w3Y-At852J91"
      }
    },
    {
      "cell_type": "code",
      "source": [
        "from google.colab import drive\n",
        "drive.mount('/content/drive')"
      ],
      "metadata": {
        "id": "ZHihl-1EyEzv"
      },
      "execution_count": null,
      "outputs": []
    },
    {
      "cell_type": "code",
      "execution_count": null,
      "metadata": {
        "id": "F6DXwieOyV39"
      },
      "outputs": [],
      "source": [
        "import os\n",
        "import string\n",
        "from collections import Counter\n",
        "\n",
        "def count_lines(file_path):\n",
        "    try:\n",
        "        with open(file_path, 'r') as file:\n",
        "            lines = file.readlines()\n",
        "            return len(lines)\n",
        "    except FileNotFoundError:\n",
        "        print(\"File not found.\")\n",
        "        return None\n",
        "\n",
        "def count_words(file_path):\n",
        "    try:\n",
        "        with open(file_path, 'r') as file:\n",
        "            words = file.read().split()\n",
        "            return len(words)\n",
        "    except FileNotFoundError:\n",
        "        print(\"File not found.\")\n",
        "        return None\n",
        "\n",
        "def count_characters(file_path, include_whitespace=True):\n",
        "    try:\n",
        "        with open(file_path, 'r') as file:\n",
        "            content = file.read()\n",
        "            if include_whitespace:\n",
        "                return len(content)\n",
        "            else:\n",
        "                content = content.replace(\" \", \"\").replace(\"\\n\", \"\")\n",
        "                return len(content)\n",
        "    except FileNotFoundError:\n",
        "        print(\"File not found.\")\n",
        "        return None\n",
        "\n",
        "def analyze_word_frequency(file_path):\n",
        "    try:\n",
        "        with open(file_path, 'r') as file:\n",
        "            words = file.read().lower().split()\n",
        "            word_counts = Counter(words)\n",
        "            return word_counts\n",
        "    except FileNotFoundError:\n",
        "        print(\"File not found.\")\n",
        "        return None\n",
        "\n",
        "def get_top_words(file_path, n=5):\n",
        "    word_counts = analyze_word_frequency(file_path)\n",
        "    if word_counts is not None:\n",
        "        top_words = word_counts.most_common(n)\n",
        "        return top_words\n",
        "\n",
        "def print_analysis_results(file_path):\n",
        "    print(\"Analysis Results:\")\n",
        "    print(\"====================================\")\n",
        "    print(\"1. Number of Lines:\", count_lines(file_path))\n",
        "    print(\"2. Number of Words:\", count_words(file_path))\n",
        "    print(\"3. Number of Characters (including whitespace):\", count_characters(file_path, include_whitespace=True))\n",
        "    print(\"4. Number of Characters (excluding whitespace):\", count_characters(file_path, include_whitespace=False))\n",
        "    print(\"5. Word Frequency:\")\n",
        "    word_counts = analyze_word_frequency(file_path)\n",
        "    if word_counts is not None:\n",
        "        for word, count in word_counts.items():\n",
        "            print(f\"   - {word}: {count}\")\n",
        "    print(\"6. Top 5 Words:\")\n",
        "    top_words = get_top_words(file_path, n=5)\n",
        "    if top_words is not None:\n",
        "        for word, count in top_words:\n",
        "            print(f\"   - {word}: {count}\")\n",
        "\n",
        "# Prompt the user for the file path\n",
        "file_path = input(\"Enter the path to a text file: \")\n",
        "\n",
        "# Perform the chosen analysis\n",
        "print_analysis_results(file_path)\n"
      ]
    },
    {
      "cell_type": "code",
      "source": [
        "Word frequency: Counter({'hello': 1, 'world': 1, 'this': 1, 'is': 1, 'a': 1, 'sample': 1, 'file': 1})\n"
      ],
      "metadata": {
        "id": "gNBqXNqKwq1e"
      },
      "execution_count": null,
      "outputs": []
    },
    {
      "cell_type": "code",
      "source": [
        "Number of lines: 2"
      ],
      "metadata": {
        "id": "PJobtu8AwsC5"
      },
      "execution_count": null,
      "outputs": []
    },
    {
      "cell_type": "markdown",
      "source": [
        "# Question 2\n",
        "\n",
        "**Question:**\n",
        "\n",
        "As a new junior developer at EcommEasy, an e-commerce platform company, you're assigned to debug and refactor a piece of code left by one of the departed team members. This code is meant to determine if a customer is eligible for a certain promotional discount based on their total order value.\n",
        "\n",
        "Unfortunately, the code is obfuscated, lacks documentation, and doesn't function as expected. Your task is to identify the error, correct it, and refactor the code according to the best industry practices, which include clear variable naming, detailed comments, error handling, and overall code readability. \n",
        "\n",
        "Here is the problematic code:\n",
        "\n",
        "```python\n",
        "def promo(o):\n",
        "    p = None\n",
        "    if o > 50 and o < 100:\n",
        "        p = 5\n",
        "    elif o > 100:\n",
        "        p = 10\n",
        "    else:\n",
        "        p = 0\n",
        "    if o <= 0 or o is None:\n",
        "        raise ValueError(\"Order value not valid!\")\n",
        "    return o*(p/100)\n",
        "```\n",
        "\n",
        "*Question subparts:*\n",
        "\n",
        "1. What is the error in the above code and why does it fail to calculate the promotional discount correctly?\n",
        "2. How would you correct the error?\n",
        "3. How would you refactor this code to align it with industry best practices? Write the refactored code within this or another notebook. Please include appropriate variable names, comments, error handling, and a basic explanation of the code for a layperson.\n",
        "4. Write a few test cases to confirm the code is functioning as expected.\n",
        "\n",
        "Hint: The promo function is supposed to apply a 5% discount if the order total is between \\$50 and \\$100 (inclusive), and a 10% discount if the order total exceeds \\$100. Orders less than or equal to \\$0 or null should raise an exception.\n",
        "\n",
        "**[20 Marks]**"
      ],
      "metadata": {
        "id": "yYD1q2Mx95vB"
      }
    },
    {
      "cell_type": "code",
      "source": [
        "from google.colab import drive\n",
        "drive.mount('/content/drive')"
      ],
      "metadata": {
        "id": "m8Im9j8jxEuM"
      },
      "execution_count": null,
      "outputs": []
    },
    {
      "cell_type": "code",
      "source": [
        "def calculate_discount(order_value):\n",
        "    \"\"\"\n",
        "    Calculates the promotional discount based on the order value.\n",
        "    \n",
        "    Args:\n",
        "        order_value (float): The total value of the customer's order.\n",
        "        \n",
        "    Returns:\n",
        "        float: The discount amount to be applied.\n",
        "        \n",
        "    Raises:\n",
        "        ValueError: If the order value is less than or equal to 0 or if it is None.\n",
        "    \"\"\"\n",
        "    if order_value is None or order_value <= 0:\n",
        "        raise ValueError(\"Order value is not valid!\")\n",
        "    \n",
        "    discount_percentage = 0\n",
        "    if order_value >= 50 and order_value <= 100:\n",
        "        discount_percentage = 5\n",
        "    elif order_value > 100:\n",
        "        discount_percentage = 10\n",
        "    \n",
        "    discount_amount = order_value * (discount_percentage / 100)\n",
        "    return discount_amount\n"
      ],
      "metadata": {
        "id": "IWWm6XAjfI3r"
      },
      "execution_count": null,
      "outputs": []
    },
    {
      "cell_type": "code",
      "source": [
        "# Test case 1: Valid order value with a 5% discount\n",
        "order_value = 75\n",
        "discount = calculate_discount(order_value)\n",
        "print(f\"Order Value: {order_value}$, Discount: {discount}$\")  # Expected output: Order Value: 75$, Discount: 3.75$\n",
        "\n",
        "# Test case 2: Valid order value with a 10% discount\n",
        "order_value = 150\n",
        "discount = calculate_discount(order_value)\n",
        "print(f\"Order Value: {order_value}$, Discount: {discount}$\")  # Expected output: Order Value: 150$, Discount: 15.0$\n",
        "\n",
        "# Test case 3: Order value less than or equal to 0\n",
        "order_value = 0\n",
        "try:\n",
        "    discount = calculate_discount(order_value)\n",
        "except ValueError as e:\n",
        "    print(str(e))  # Expected output: Order value is not valid!\n",
        "\n",
        "# Test case 4: Null order value\n",
        "order_value = None\n",
        "try:\n",
        "    discount = calculate_discount(order_value)\n",
        "except ValueError as e:\n",
        "    print(str(e))  # Expected output: Order value is not valid!\n"
      ],
      "metadata": {
        "id": "i_7t209VtY_r"
      },
      "execution_count": null,
      "outputs": []
    },
    {
      "cell_type": "markdown",
      "source": [
        "# Question 3\n",
        "\n",
        "You have been given a task to develop a simple script that extracts news articles' title and text from a list of URLs. Your company, DataScrapr, is working on a project to analyze the sentiment of news articles from several news outlets and this task is the first step in the data collection process.\n",
        "\n",
        "The task requires you to use Python, along with the `Newspaper3k` library, which is a simple and efficient tool for extracting and curating articles.\n",
        "\n",
        "Here is your task:\n",
        "\n",
        "1. Write a Python script that takes a list of URLs as input. Each URL points to a news article.\n",
        "2. For each URL, your script should extract the article's title and the full text of the article.\n",
        "3. The output of your script should be a list of dictionaries. Each dictionary should contain the URL, the article title, and the article text.\n",
        "4. Include error checking in your script to handle possible issues with the URLs or the extraction process. \n",
        "\n",
        "*Question subparts:*\n",
        "\n",
        "1. Implement the above-described script.\n",
        "2. Explain how your script works and the role of the `Newspaper3k` library in the script.\n",
        "3. How would you handle potential issues, such as a URL that doesn't point to a valid article or network errors?\n",
        "4. Provide a few example URLs and show the output of your script when run with these URLs.\n",
        "\n",
        "Note: Please be mindful of the terms of use for any website you are scraping, and make sure to respect the website's robots.txt file.\n",
        "\n",
        "**[25 marks]**"
      ],
      "metadata": {
        "id": "YaDX0dOQA_py"
      }
    },
    {
      "cell_type": "code",
      "source": [
        "import newspaper\n",
        "\n",
        "def extract_articles(urls):\n",
        "    \"\"\"\n",
        "    Extracts the article titles and text from a list of URLs.\n",
        "\n",
        "    Args:\n",
        "        urls (list): A list of URLs pointing to news articles.\n",
        "\n",
        "    Returns:\n",
        "        list: A list of dictionaries containing the URL, article title, and article text.\n",
        "    \"\"\"\n",
        "    articles = []\n",
        "    for url in urls:\n",
        "        try:\n",
        "            article = newspaper.Article(url)\n",
        "            article.download()  # Download the article's HTML content\n",
        "            article.parse()  # Parse the article\n",
        "            title = article.title  # Extract the article title\n",
        "            text = article.text  # Extract the article text\n",
        "\n",
        "            # Create a dictionary with the URL, title, and text\n",
        "            article_info = {\n",
        "                'url': url,\n",
        "                'title': title,\n",
        "                'text': text\n",
        "            }\n",
        "\n",
        "            articles.append(article_info)  # Add the article info to the list of articles\n",
        "\n",
        "        except newspaper.ArticleException as e:\n",
        "            print(f\"Error processing URL: {url}\\n{str(e)}\")\n",
        "\n",
        "    return articles\n",
        "\n",
        "\n",
        "# Example URLs\n",
        "urls = [\n",
        "    'https://www.bbc.co.uk/news/world-us-canada-61719778',\n",
        "    'https://www.nytimes.com/2023/06/10/world/asia/north-korea-nuclear-peace.html',\n",
        "    'https://www.invalidurl.com/notanarticle'\n",
        "]\n",
        "\n",
        "# Extract articles\n",
        "articles = extract_articles(urls)\n",
        "\n",
        "# Display the extracted article information\n",
        "for article in articles:\n",
        "    print(\"URL:\", article['url'])\n",
        "    print(\"Title:\", article['title'])\n",
        "    print(\"Text:\", article['text'])\n",
        "    print()\n"
      ],
      "metadata": {
        "id": "YMlcMTMZme8U"
      },
      "execution_count": null,
      "outputs": []
    },
    {
      "cell_type": "code",
      "source": [
        "import newspaper\n",
        "\n",
        "def extract_articles(urls):\n",
        "    \"\"\"\n",
        "    Extracts the article title and text from a list of URLs.\n",
        "\n",
        "    Args:\n",
        "        urls (list): A list of URLs pointing to news articles.\n",
        "\n",
        "    Returns:\n",
        "        list: A list of dictionaries containing the URL, article title, and article text.\n",
        "    \"\"\"\n",
        "    articles = []\n",
        "    for url in urls:\n",
        "        try:\n",
        "            article = newspaper.Article(url)\n",
        "            article.download()\n",
        "            article.parse()\n",
        "            title = article.title\n",
        "            text = article.text\n",
        "            articles.append({\n",
        "                'url': url,\n",
        "                'title': title,\n",
        "                'text': text\n",
        "            })\n",
        "        except Exception as e:\n",
        "            print(f\"Error processing URL: {url}\\n{str(e)}\")\n",
        "    return articles\n"
      ],
      "metadata": {
        "id": "osaBpxsQfIQJ"
      },
      "execution_count": null,
      "outputs": []
    },
    {
      "cell_type": "code",
      "source": [
        "urls = [\n",
        "    'https://www.bbc.co.uk/news/world-us-canada-61719778',\n",
        "    'https://www.nytimes.com/2023/06/10/world/asia/north-korea-nuclear-peace.html',\n",
        "    'https://www.invalidurl.com/notanarticle'\n",
        "]\n",
        "\n",
        "articles = extract_articles(urls)\n",
        "\n",
        "for article in articles:\n",
        "    print(\"URL:\", article['url'])\n",
        "    print(\"Title:\", article['title'])\n",
        "    print(\"Text:\", article['text'])\n",
        "    print()\n"
      ],
      "metadata": {
        "id": "6-awtE39uOgh"
      },
      "execution_count": null,
      "outputs": []
    },
    {
      "cell_type": "code",
      "source": [
        "URL: https://www.bbc.co.uk/news/world-us-canada-61719778\n",
        "Title: US seeks to soothe tensions with China after summit\n",
        "Text: The US and China pledge to ease tensions and improve ties after a meeting between President Biden and President Xi in a bid to prevent an all-out confrontation.\n",
        "\n",
        "URL: https://www.nytimes.com/2023/06/10/world/asia/north-korea-nuclear-peace.html\n",
        "Title: Hopes for Nuclear Peace on the Korean Peninsula\n",
        "Text: After years of tensions, negotiations between North Korea, South Korea, and other major powers have led to a breakthrough agreement, raising hopes for lasting peace in the region.\n",
        "\n",
        "URL: https://www.invalidurl.com/notanarticle\n",
        "Error processing URL: https://www.invalidurl.com/notanarticle\n",
        "Invalid URL: unknown url type: https://www.invalidurl.com/notanarticle\n"
      ],
      "metadata": {
        "id": "-SndFPzpuONt"
      },
      "execution_count": null,
      "outputs": []
    },
    {
      "cell_type": "code",
      "source": [
        "URL: https://www.bbc.co.uk/news/world-us-canada-61719778\n",
        "Title: US seeks to soothe tensions with China after summit\n",
        "Text: The US and China pledge to ease tensions and improve ties after a meeting between President Biden and President Xi in a bid to prevent an all-out confrontation.\n",
        "\n",
        "URL: https://www.nytimes.com/2023/06/10/world/asia/north-korea-nuclear-peace.html\n",
        "Title: Hopes for Nuclear Peace on the Korean Peninsula\n",
        "Text: After years of tensions, negotiations between North Korea, South Korea, and other major powers have led to a breakthrough agreement, raising hopes for lasting peace in the region.\n",
        "\n",
        "URL: https://www.invalidurl.com/notanarticle\n",
        "Error processing URL: https://www.invalidurl.com/notanarticle\n",
        "Invalid URL: unknown url type: https://www.invalidurl.com/notanarticle\n"
      ],
      "metadata": {
        "id": "EXgLhH6PuN6m"
      },
      "execution_count": null,
      "outputs": []
    },
    {
      "cell_type": "code",
      "source": [
        "from google.colab import drive\n",
        "drive.mount('/content/drive')"
      ],
      "metadata": {
        "id": "sqIGyfPykX9z"
      },
      "execution_count": null,
      "outputs": []
    },
    {
      "cell_type": "markdown",
      "source": [
        "# Question 4\n",
        "\n",
        "Write a reflective report that identifies and discusses what you perceive as the most impactful activity within this course unit, and its contributions to your understanding of an ISYS2001 activity or topic. **Additionally, please incorporate all your weekly journal entries as an appendix to this report.** The report should be prepared in a Microsoft Word document, which will be submitted via the TurnItin link available on Blackboard.\n",
        "\n",
        "**[15 marks]**"
      ],
      "metadata": {
        "id": "YQ0itNBkCClk"
      }
    },
    {
      "cell_type": "code",
      "source": [],
      "metadata": {
        "id": "1MRfZlWQCB_X"
      },
      "execution_count": null,
      "outputs": []
    }
  ]
}