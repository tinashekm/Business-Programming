{
  "nbformat": 4,
  "nbformat_minor": 0,
  "metadata": {
    "colab": {
      "name": "pay_calculator.ipynb",
      "provenance": [],
      "include_colab_link": true
    },
    "kernelspec": {
      "name": "python3",
      "display_name": "Python 3"
    },
    "language_info": {
      "name": "python"
    }
  },
  "cells": [
    {
      "cell_type": "markdown",
      "metadata": {
        "id": "view-in-github",
        "colab_type": "text"
      },
      "source": [
        "<a href=\"https://colab.research.google.com/github/tinashekm/Business-Programming/blob/main/pay_calculator.ipynb\" target=\"_parent\"><img src=\"https://colab.research.google.com/assets/colab-badge.svg\" alt=\"Open In Colab\"/></a>"
      ]
    },
    {
      "cell_type": "markdown",
      "source": [
        "# Pay Calculator\n",
        "\n",
        "Use this calculator to quickly estimate how much tax you will pay on your weekly income. This calculator conforms to official Australian Tax Office rates and formulas."
      ],
      "metadata": {
        "id": "1oEWRcWLPI1p"
      }
    },
    {
      "cell_type": "code",
      "execution_count": null,
      "metadata": {
        "colab": {
          "base_uri": "https://localhost:8080/"
        },
        "id": "JETzvqg4zJ6s",
        "outputId": "5fdcd7d8-b153-4d01-a9dd-621b8cde4b64"
      },
      "outputs": [
        {
          "output_type": "stream",
          "name": "stdout",
          "text": [
            "Payslip of Joe Blogs for week 2022-05-27\n",
            "Weekly Salary: $4000.00 Commission: $80.00 Tax: $1271.90\n",
            "Take Home Pay $2808.10\n"
          ]
        }
      ],
      "source": [
        "def calculate_ato_tax(income):\n",
        "  '''\n",
        "  Calculate the tax payable on yearly income based on the Australian Tax \n",
        "  Office Resident tax rates 2021–22 Taxable Income\n",
        "  '''\n",
        "  tax_payable = 0 # if income <= 18200:\n",
        "  if 18201 <= income <= 45000:\n",
        "    tax_payable = 0.19 * (income - 18200)\n",
        "  elif 45001 <= income <= 120000:\n",
        "    tax_payable = 5092 + 0.32 * (income - 45000)\n",
        "  elif 120001 <= income <= 180000:\n",
        "    tax_payable = 29467 + 0.37 * (income - 120000)\n",
        "  elif income >= 180001:\n",
        "    tax_payable = 51667 + 0.45 * (income - 180000)\n",
        "  return tax_payable\n",
        "\n",
        "\n",
        "def print_payslip(name, date, salary, sales):\n",
        "  '''\n",
        "  Print pay details given a salary and sales\n",
        "  '''\n",
        "  commission = 0.02 * sales\n",
        "  earnings = salary + commission\n",
        "  income = earnings * 52\n",
        "  tax = calculate_ato_tax(income) / 52\n",
        "  pay = earnings - tax\n",
        "\n",
        "  # Print pay slip\n",
        "  print(f'Payslip of {name} for week {date}')\n",
        "  print(f'Weekly Salary: ${salary:.2f} Commission: ${commission:.2f} Tax: ${tax:.2f}')\n",
        "  print(f'Take Home Pay ${pay:.2f}')\n",
        "\n",
        "\n",
        "name = 'Joe Blogs'\n",
        "date = '2022-05-27'\n",
        "salary =  4000.00\n",
        "sales = 4000\n",
        "\n",
        "print_payslip(name, date, salary, sales)"
      ]
    },
    {
      "cell_type": "code",
      "source": [
        ""
      ],
      "metadata": {
        "id": "B9ixLcpL1bD1"
      },
      "execution_count": null,
      "outputs": []
    }
  ]
}