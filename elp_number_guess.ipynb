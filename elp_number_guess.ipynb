{
  "nbformat": 4,
  "nbformat_minor": 0,
  "metadata": {
    "colab": {
      "name": "elp_number_guess.ipynb",
      "provenance": [],
      "include_colab_link": true
    },
    "kernelspec": {
      "name": "python3",
      "display_name": "Python 3"
    },
    "language_info": {
      "name": "python"
    }
  },
  "cells": [
    {
      "cell_type": "markdown",
      "metadata": {
        "id": "view-in-github",
        "colab_type": "text"
      },
      "source": [
        "<a href=\"https://colab.research.google.com/github/tinashekm/Business-Programming/blob/main/elp_number_guess.ipynb\" target=\"_parent\"><img src=\"https://colab.research.google.com/assets/colab-badge.svg\" alt=\"Open In Colab\"/></a>"
      ]
    },
    {
      "cell_type": "code",
      "execution_count": null,
      "metadata": {
        "colab": {
          "base_uri": "https://localhost:8080/"
        },
        "id": "qzvdfufMdkWc",
        "outputId": "c950fe42-6f86-4306-dce8-f0a1687e1ab7"
      },
      "outputs": [
        {
          "output_type": "stream",
          "name": "stdout",
          "text": [
            "I am thinking of a number between 1 and 100.\n",
            "You have 10 guesses left. Take a guess.\n",
            "> 50\n",
            "Your guess is too high.\n",
            "You have 9 guesses left. Take a guess.\n",
            "> 25\n",
            "Your guess is too low.\n",
            "You have 8 guesses left. Take a guess.\n",
            "> 37\n",
            "Your guess is too low.\n",
            "You have 7 guesses left. Take a guess.\n",
            "> 42\n",
            "Your guess is too high.\n",
            "You have 6 guesses left. Take a guess.\n",
            "> 40\n",
            "Your guess is too low.\n",
            "You have 5 guesses left. Take a guess.\n",
            "> 41\n",
            "Yay! You guessed my number!\n"
          ]
        }
      ],
      "source": [
        "\n",
        "\n",
        "def askForGuess():\n",
        "  while True:\n",
        "    guess = input('> ') \n",
        "\n",
        "    if guess.isdecimal():\n",
        "      return int(guess)\n",
        "    print('Please enter a number between 1 and 100.')\n",
        "\n",
        "secretNumber = random.randint(1, 100)\n",
        "print('I am thinking of a number between 1 and 100.')\n",
        "\n",
        "for i in range(0,10,2):\n",
        "    print('You have {10 - i} guesses left. Take a guess.')\n",
        "\n",
        "    guess == askForGuess()\n",
        "    if guess == secretNumber:\n",
        "        break\n",
        "\n",
        "    if guess < secretNumber:\n",
        "        print('Your guess is too high.')\n",
        "    if guess > secretNumber:\n",
        "        print('Your guess is too low.')\n",
        "\n",
        "if guess == secretNumber:\n",
        "    print('You guessed my number!')\n",
        "else:\n",
        "    print('No more guesses. The number I was thinking of was', secretNumber)\n"
      ]
    },
    {
      "cell_type": "code",
      "source": [
        ""
      ],
      "metadata": {
        "id": "aOYmnplz8Uqp"
      },
      "execution_count": null,
      "outputs": []
    }
  ]
}