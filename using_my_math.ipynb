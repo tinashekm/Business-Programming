{
  "nbformat": 4,
  "nbformat_minor": 0,
  "metadata": {
    "colab": {
      "name": "using_my_math.ipynb",
      "provenance": [],
      "include_colab_link": true
    },
    "kernelspec": {
      "name": "python3",
      "display_name": "Python 3"
    },
    "language_info": {
      "name": "python"
    }
  },
  "cells": [
    {
      "cell_type": "markdown",
      "metadata": {
        "id": "view-in-github",
        "colab_type": "text"
      },
      "source": [
        "<a href=\"https://colab.research.google.com/github/tinashekm/Business-Programming/blob/main/using_my_math.ipynb\" target=\"_parent\"><img src=\"https://colab.research.google.com/assets/colab-badge.svg\" alt=\"Open In Colab\"/></a>"
      ]
    },
    {
      "cell_type": "markdown",
      "source": [
        "# Test Module: my_math.ipynb\n",
        "\n",
        "In this notebook, write some code to test the functions in *my_math.ipynb* by importing the file as python module. *my_math.ipynb* has some basic arithmetic functions in it.\n",
        "\n",
        "We will try importing as a python script and as a notebook.\n",
        "\n",
        "## Task 0 - Import this notebook to GitHub\n",
        "Save the notebook to your local GitHub repository.\n",
        "\n",
        "## Task 1 - Import as a Python script\n",
        "To do this you will need to:\n",
        "* open my_math.ipynb from the ISYS2001 Worksheets repository\n",
        "* download/save as my_math.py\n",
        "* from this notebook upload my_math.py.  This will put it in the same folder as this notebook.\n",
        "* Import the my_math module\n",
        "\n",
        "    import my_math\n",
        "* write some code to test the functions in my_math module"
      ],
      "metadata": {
        "id": "pM6Ipzg-fJzT"
      }
    },
    {
      "cell_type": "code",
      "execution_count": 2,
      "metadata": {
        "id": "vc2SBxd8fDyE",
        "colab": {
          "base_uri": "https://localhost:8080/"
        },
        "outputId": "978f3450-0bda-4796-e7f5-1ef8d6773bee"
      },
      "outputs": [
        {
          "output_type": "execute_result",
          "data": {
            "text/plain": [
              "7"
            ]
          },
          "metadata": {},
          "execution_count": 2
        }
      ],
      "source": [
        "import my_math\n",
        "\n",
        "my_math.add(3,4)"
      ]
    },
    {
      "cell_type": "code",
      "source": [
        "my_math.multiply(3,4)"
      ],
      "metadata": {
        "colab": {
          "base_uri": "https://localhost:8080/"
        },
        "id": "vB3pa8FQK1qy",
        "outputId": "625c6892-ba4e-4b0a-a3e0-9512c146187f"
      },
      "execution_count": 3,
      "outputs": [
        {
          "output_type": "execute_result",
          "data": {
            "text/plain": [
              "12"
            ]
          },
          "metadata": {},
          "execution_count": 3
        }
      ]
    },
    {
      "cell_type": "code",
      "source": [
        "help(my_math)"
      ],
      "metadata": {
        "id": "QmJ0M0U9LhCC"
      },
      "execution_count": null,
      "outputs": []
    },
    {
      "cell_type": "markdown",
      "source": [
        "## Task 2 - Import as a Notebook\n",
        "\n",
        "To do this you will need:\n",
        "* intall margo loader\n",
        "* open my_math.ipynb from the ISYS2001 Worksheets repository\n",
        "* download as a notebook my_math.ipynb\n",
        "* from this notebook upload my_math.ipynb.  This will put it in the same folder as this notebook.\n",
        "* import the notebook\n",
        "    import margo_loader\n",
        "    import my_math\n",
        "\n",
        "* Wrtie some code to test the functions in my_math notebook \n"
      ],
      "metadata": {
        "id": "3mChsfz3hbv2"
      }
    },
    {
      "cell_type": "code",
      "source": [
        "!pip - q install margo - loader"
      ],
      "metadata": {
        "id": "QOOQhfvIiOss",
        "colab": {
          "base_uri": "https://localhost:8080/"
        },
        "outputId": "f6fa6b2b-3409-4f92-86bd-3284bd8c02e9"
      },
      "execution_count": 4,
      "outputs": [
        {
          "output_type": "stream",
          "name": "stdout",
          "text": [
            "ERROR: unknown command \"-\"\n"
          ]
        }
      ]
    }
  ]
}