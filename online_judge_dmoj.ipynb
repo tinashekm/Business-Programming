{
  "nbformat": 4,
  "nbformat_minor": 0,
  "metadata": {
    "colab": {
      "name": "online_judge_dmoj.ipynb",
      "provenance": [],
      "include_colab_link": true
    },
    "kernelspec": {
      "name": "python3",
      "display_name": "Python 3"
    },
    "language_info": {
      "name": "python"
    }
  },
  "cells": [
    {
      "cell_type": "markdown",
      "metadata": {
        "id": "view-in-github",
        "colab_type": "text"
      },
      "source": [
        "<a href=\"https://colab.research.google.com/github/tinashekm/Business-Programming/blob/main/online_judge_dmoj.ipynb\" target=\"_parent\"><img src=\"https://colab.research.google.com/assets/colab-badge.svg\" alt=\"Open In Colab\"/></a>"
      ]
    },
    {
      "cell_type": "markdown",
      "source": [
        "# Online Judges\n",
        "\n",
        "An online judge is a website that contains a repository of programming problems. After selecting a problem, you can submit your solution. The site will test your code. The program is probably correct if your code produces the right answers. Otherwise, more revisions are required if your code has the wrong answers for one or more tests. Here are the benefits of the online judge sites:\n",
        "* Rapid feedback. The site will test your submission with various data and feedback provided as soon as you submit it.\n",
        "* High-quality problems. The online judges' sites have been around for a while now, and most of the problems have been improved over this time.\n",
        "* Quantity of problems. There are many problems available on each site on many different programming concepts.\n",
        "* Community. You can read the comments of others who have tried the problem. Often if you are stuck, there are hints in the comments. Once you have solved a problem, many online judges allow you to see others' submissions. Viewing the code of others is often an excellent way to learn.\n",
        "\n",
        "These are the programming judges that we'll use during the semester:\n",
        "* DMOJ https://dmoj.ca/\n",
        "* Timus https://acm.timus.ru/\n",
        "* USACO http://usaco.org/\n",
        "\n",
        "Each will require you to create an account before you can submit code. Today we will do a problem from DMOj.\n",
        "\n",
        "\n",
        "# DMOJ: Modern Online Judge.\n",
        "\n",
        "DMOJ is an open-source contest platform. We will be using some of the contests to test and evaluate our python skills.\n",
        "\n",
        "### Create DMOJ Account\n",
        "\n",
        "Go to https://dmoj.ca and click 'Sign up'. Enter your username, password, and email address on the registration page that comes up. This page also allows you to set your default programming language. We'll only be using Python 3 in this unit, so make sure you click Python 3. Then click 'Register!' to create your account.  Once you verify your email you will be registered, you can use your username and password to log in to DMOJ.\n",
        "\n",
        "\n",
        "### DMOJ problem Not a wall of Text (dmopc15c7p2)\n",
        "\n",
        "To find this problem, log into DMOJ, click Problems, type dmopc15c7p2 in the search box, and click 'Go'. You should see the problem as the only result. If you click the problem title, you should see the problem itself, input, output specification, a sample of valid input, and the result (output).\n",
        "\n",
        "\n",
        "### The Challenge\n",
        "\n",
        "You need to write a program to count the number of words in a line of text. A word is any sequence of lowercase characters. In this challenge, 'Hello' is a word and 'bbaabbb' is also a word.\n",
        "\n",
        "\n",
        "### Input\n",
        "\n",
        "The input consists of a single line of text with lowercase characters and spaces. Each pair of words has exactly one space between them, and there are no spaces before or after the first word. The line can be up to 80 characters long.\n",
        "\n",
        "### Output\n",
        "\n",
        "Output the number of words in the input line.\n",
        "\n"
      ],
      "metadata": {
        "id": "2G3SaB63z7Ed"
      }
    },
    {
      "cell_type": "code",
      "execution_count": 1,
      "metadata": {
        "id": "nYyBS-GmoVdy",
        "outputId": "e9bb10b9-33e3-42d1-f54a-b86d1900760e",
        "colab": {
          "base_uri": "https://localhost:8080/"
        }
      },
      "outputs": [
        {
          "output_type": "stream",
          "name": "stdout",
          "text": [
            "How old are you?twenty two\n",
            "Please enter a whole number\n",
            "How old are you?22\n",
            "Your age is: 22\n"
          ]
        }
      ],
      "source": [
        "while True:\n",
        "  try:\n",
        "    age = int(input('How old are you?'))\n",
        "    break\n",
        "  except ValueError:\n",
        "    print('Please enter a whole number')\n",
        "\n",
        "print('Your age is: ' + str(age))"
      ]
    },
    {
      "cell_type": "markdown",
      "source": [
        "\n",
        "## Submit your solution\n",
        "Log into [DMOJ](https://dmoj.ca/) and click 'Problems'. Then search for problem code dmopc15c7p2. Click the search result to load the problem. Then, you should see the problem's text, as written by the problem's author. Copy and paste our code into the text section after clicking 'Submit Solution.' ** Make sure Python 3** is selected/checked as the programming language. When you're are ready, click the 'Submit' button.\n",
        "\n",
        "DMOJ runs tests on your code and shows you the results. For each test, you will see a status code. \n",
        "* AC stands for accepted. \n",
        "* WA stands for the wrong answer \n",
        "* TLE stands for time limit exceeded. \n",
        "\n",
        "If you see WA or TLE, double-check the code you pasted, making sure it matches the code from your notebook cell or text editor.\n",
        "\n",
        "Assuming all test cases are accepted, you should see a score of  100/100 and that you have earned 3 points for your work."
      ],
      "metadata": {
        "id": "1F8pQLAZz5aS"
      }
    },
    {
      "cell_type": "code",
      "source": [
        ""
      ],
      "metadata": {
        "id": "EM4OnIbrOY8a"
      },
      "execution_count": null,
      "outputs": []
    }
  ]
}