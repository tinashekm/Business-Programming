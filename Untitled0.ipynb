{
  "nbformat": 4,
  "nbformat_minor": 0,
  "metadata": {
    "colab": {
      "name": "Untitled0.ipynb",
      "provenance": [],
      "authorship_tag": "ABX9TyMmuI4zhh9DMnha2UAW3JgY",
      "include_colab_link": true
    },
    "kernelspec": {
      "name": "python3",
      "display_name": "Python 3"
    },
    "language_info": {
      "name": "python"
    }
  },
  "cells": [
    {
      "cell_type": "markdown",
      "metadata": {
        "id": "view-in-github",
        "colab_type": "text"
      },
      "source": [
        "<a href=\"https://colab.research.google.com/github/tinashekm/Business-Programming/blob/main/Untitled0.ipynb\" target=\"_parent\"><img src=\"https://colab.research.google.com/assets/colab-badge.svg\" alt=\"Open In Colab\"/></a>"
      ]
    },
    {
      "cell_type": "code",
      "execution_count": null,
      "metadata": {
        "colab": {
          "base_uri": "https://localhost:8080/"
        },
        "id": "0D8AiIviU83E",
        "outputId": "d592ed90-b4c7-45be-e2cb-b735b313c835"
      },
      "outputs": [
        {
          "output_type": "stream",
          "name": "stdout",
          "text": [
            "enter monthly megabytes  :  20\n",
            "Enter number of months  :  3\n",
            "Enter number of megabytes used   :  18\n",
            "Total mega available for N+1 62\n",
            "Enter number of megabytes used   :  18\n",
            "Total mega available for N+1 44\n"
          ]
        }
      ],
      "source": [
        "monthly_megabytes = int (input(\"enter monthly megabytes  :  \"))\n",
        "months = int(input(\"Enter number of months  :  \"))\n",
        "\n",
        "\n",
        "total = monthly_megabytes * (months + 1)\n",
        "\n",
        "for i in range(months):\n",
        "  used = int(input(\"Enter number of megabytes used   :  \")) \n",
        "  total = total - used\n",
        "  print(\"Total mega available for N+1\"  , total)\n"
      ]
    }
  ]
}