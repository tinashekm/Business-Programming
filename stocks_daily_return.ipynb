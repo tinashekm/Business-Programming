{
  "cells": [
    {
      "cell_type": "markdown",
      "metadata": {
        "id": "view-in-github",
        "colab_type": "text"
      },
      "source": [
        "<a href=\"https://colab.research.google.com/github/tinashekm/Business-Programming/blob/main/stocks_daily_return.ipynb\" target=\"_parent\"><img src=\"https://colab.research.google.com/assets/colab-badge.svg\" alt=\"Open In Colab\"/></a>"
      ]
    },
    {
      "cell_type": "markdown",
      "id": "b5ae41e0",
      "metadata": {
        "id": "b5ae41e0"
      },
      "source": [
        "# Daily Return of Stock Data\n",
        "\n",
        "## Daily Return formula\n",
        "\n",
        "Visiting a financial website that provides stock price information. Type a company’s name or its stock’s ticker symbol.  We will use the utility *curl* to download the data, but we need a URL.  To find the URL, navigate to Yahoo finance, type in NAB.AX, click the 'Historical' tab.  towards the right is a download option.  right click on the download link and select 'Copy Link Address' form the popup menu.  No paste to the URL assignment statement.\n",
        "\n",
        "Find in the historical prices section the stock’s closing price for any two consecutive days. For example, assume a stock’s closing price was \\$36.75 yesterday and that its closing price was \\$35.50 the previous day. Subtract the previous day’s closing price from the most recent day’s closing price. In this example, subtract \\$35.50 from \\$36.75 to get \\$1.25.\n",
        "\n",
        "Now divide the results by the previous day's closing prices to calculate the daily return.  Multiply this by 100 to convert to a percentage.  So $1.25 divided by #35.50 equals 0.035.  Multiply 0.035 by 100 to 3.5 percent.\n",
        "\n",
        "    Daily return = (Today prices - Yesterday price) / Yesterday price\n",
        "\n",
        "We will look at three different methods in Python to process the file:\n",
        "* Use read() and readline() functions\n",
        "* Use CSV module\n",
        "* Use Pandas\n"
      ]
    },
    {
      "cell_type": "code",
      "execution_count": null,
      "id": "1e11a5be",
      "metadata": {
        "id": "1e11a5be"
      },
      "outputs": [],
      "source": [
        ""
      ]
    },
    {
      "cell_type": "markdown",
      "id": "e63f358d",
      "metadata": {
        "id": "e63f358d"
      },
      "source": [
        "## Read CSV file"
      ]
    },
    {
      "cell_type": "code",
      "execution_count": null,
      "id": "425280cb",
      "metadata": {
        "id": "425280cb"
      },
      "outputs": [],
      "source": [
        ""
      ]
    },
    {
      "cell_type": "markdown",
      "id": "6d1de788",
      "metadata": {
        "id": "6d1de788"
      },
      "source": [
        "## Module: CSV"
      ]
    },
    {
      "cell_type": "code",
      "execution_count": null,
      "id": "17d5e7e0",
      "metadata": {
        "id": "17d5e7e0"
      },
      "outputs": [],
      "source": [
        ""
      ]
    },
    {
      "cell_type": "markdown",
      "id": "1af66a5b",
      "metadata": {
        "id": "1af66a5b"
      },
      "source": [
        "## Module: Pandas"
      ]
    },
    {
      "cell_type": "code",
      "execution_count": null,
      "id": "494f6466",
      "metadata": {
        "id": "494f6466"
      },
      "outputs": [],
      "source": [
        ""
      ]
    }
  ],
  "metadata": {
    "kernelspec": {
      "display_name": "Python 3 (ipykernel)",
      "language": "python",
      "name": "python3"
    },
    "language_info": {
      "codemirror_mode": {
        "name": "ipython",
        "version": 3
      },
      "file_extension": ".py",
      "mimetype": "text/x-python",
      "name": "python",
      "nbconvert_exporter": "python",
      "pygments_lexer": "ipython3",
      "version": "3.9.6"
    },
    "colab": {
      "name": "stocks_daily_return.ipynb",
      "provenance": [],
      "include_colab_link": true
    }
  },
  "nbformat": 4,
  "nbformat_minor": 5
}