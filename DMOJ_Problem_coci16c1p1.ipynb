{
  "nbformat": 4,
  "nbformat_minor": 0,
  "metadata": {
    "colab": {
      "provenance": [],
      "authorship_tag": "ABX9TyMK64lpLnStdyU1Ju/V8fHp",
      "include_colab_link": true
    },
    "kernelspec": {
      "name": "python3",
      "display_name": "Python 3"
    },
    "language_info": {
      "name": "python"
    }
  },
  "cells": [
    {
      "cell_type": "markdown",
      "metadata": {
        "id": "view-in-github",
        "colab_type": "text"
      },
      "source": [
        "<a href=\"https://colab.research.google.com/github/tinashekm/Business-Programming/blob/main/DMOJ_Problem_coci16c1p1.ipynb\" target=\"_parent\"><img src=\"https://colab.research.google.com/assets/colab-badge.svg\" alt=\"Open In Colab\"/></a>"
      ]
    },
    {
      "cell_type": "code",
      "execution_count": 2,
      "metadata": {
        "colab": {
          "base_uri": "https://localhost:8080/"
        },
        "id": "pHM1RRF3J21p",
        "outputId": "71a3d471-5542-4a0a-e640-907854628bc7"
      },
      "outputs": [
        {
          "output_type": "stream",
          "name": "stdout",
          "text": [
            "Enter monthly MB:  2\n",
            "Enter number of months: 3\n",
            "Enter amount used for this month: 2\n",
            "Enter amount used for this month: 1\n",
            "Enter amount used for this month: 1\n",
            "4\n"
          ]
        }
      ],
      "source": [
        "monthly_MB = int(input(\"Enter monthly MB:  \"))\n",
        "n = int(input(\"Enter number of months: \"))\n",
        "total_mb = monthly_MB * (n + 1)\n",
        "for i in range(n):\n",
        "  used = int(input(\"Enter amount used for this month: \"))\n",
        "  total_mb = total_mb - used\n",
        "print(total_mb)"
      ]
    }
  ]
}