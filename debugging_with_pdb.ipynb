{
  "nbformat": 4,
  "nbformat_minor": 0,
  "metadata": {
    "colab": {
      "name": "debugging_with_pdb.ipynb",
      "provenance": [],
      "include_colab_link": true
    },
    "kernelspec": {
      "name": "python3",
      "display_name": "Python 3"
    },
    "language_info": {
      "name": "python"
    }
  },
  "cells": [
    {
      "cell_type": "markdown",
      "metadata": {
        "id": "view-in-github",
        "colab_type": "text"
      },
      "source": [
        "<a href=\"https://colab.research.google.com/github/tinashekm/Business-Programming/blob/main/debugging_with_pdb.ipynb\" target=\"_parent\"><img src=\"https://colab.research.google.com/assets/colab-badge.svg\" alt=\"Open In Colab\"/></a>"
      ]
    },
    {
      "cell_type": "markdown",
      "source": [
        "# Debugging with pdb\n",
        "\n",
        "Python 3.7 has a built-in interctive debugger called **pdb**. It is possible to stop the execution of the code at any point by setting a breakpoint.  This will jump you into interactive the pdb command line.  From there you can then print values of variables, list lines of code, run one line of code at a time.  Taken directly from the [pdb documentation](https://docs.python.org/3/library/pdb.html), here are the important five commands.\n",
        "\n",
        "* l(ist) - Displays 11 lines around the current line\n",
        "* s(tep) - Execute the current line, stop at the first possible occasion.\n",
        "* n(ext) - Continue execution until the next line in the current function is reached or it returns.\n",
        "* b(reak) - Set a breakpoint (depending on the argument provided).\n",
        "* r(eturn) - Continue execution until the current function returns.\n",
        "\n",
        "## How to set a breakpoint() \n",
        "\n",
        "In Python 3.7 to set a breakpoint we put the following function at the location in the code where we want execution to stop:\n",
        "\n",
        "      breakpoint()\n",
        "\n",
        "For older verison of pytohn you will need to insert the following code at the location where you want to break into the debugger:\n",
        "\n",
        "    import pdb; pdb.set_trace()\n",
        "\n",
        "Let's look at the now familiar bubble_sort() for an earlier notebook.  Normally you would execute the code and try some input.  Then match the output to the code and make a educated guess where you would put the breakpoint(). \n",
        "\n",
        "With *pdb*m becaue you can step through on e line at a time, you don;t have to be as precise with the location of the breakpoint. So it is common to see a break point at the start of the misbehaving function.\n",
        "\n",
        "Where would be a a good locaiton to place a break point?  Place a breakpoint in the followcode and then explore some of the basic commands and view the values in some variables.  Once comfortable with the *pdb* commands, can you come to the same conclusions as before when using the print() statements?\n",
        "\n"
      ],
      "metadata": {
        "id": "HnTsRFt1u15F"
      }
    },
    {
      "cell_type": "code",
      "execution_count": null,
      "metadata": {
        "id": "uOqyr1Xuuz6i"
      },
      "outputs": [],
      "source": [
        "def bubble_sort(alist):\n",
        "  '''Sorts a given list in ascending order\n",
        "  >>> bubble_sort([3,4,2,1])\n",
        "  [1,2,3,4]\n",
        "  '''\n",
        "  for passnum in reversed(range(len(alist) - 1)):\n",
        "      for i in range(passnum):\n",
        "          if alist[i] > alist[i + 1]:\n",
        "              alist[i], alist[i + 1] = alist[i + 1], alist[i]\n",
        "  return alist"
      ]
    },
    {
      "cell_type": "code",
      "source": [
        "bubble_sort([3,4,2,1])"
      ],
      "metadata": {
        "id": "oQRQsQmRu7vt"
      },
      "execution_count": null,
      "outputs": []
    }
  ]
}